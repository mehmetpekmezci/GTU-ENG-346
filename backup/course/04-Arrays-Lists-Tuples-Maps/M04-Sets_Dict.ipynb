{
 "cells": [
  {
   "cell_type": "code",
   "execution_count": null,
   "metadata": {
    "executionInfo": {
     "elapsed": 2,
     "status": "ok",
     "timestamp": 1698662598566,
     "user": {
      "displayName": "Kürşat I.",
      "userId": "14652250962021305653"
     },
     "user_tz": -180
    },
    "id": "klfhbZ8gLdqB"
   },
   "outputs": [],
   "source": [
    "A = set()"
   ]
  },
  {
   "cell_type": "code",
   "execution_count": null,
   "metadata": {
    "executionInfo": {
     "elapsed": 2,
     "status": "ok",
     "timestamp": 1698662616905,
     "user": {
      "displayName": "Kürşat I.",
      "userId": "14652250962021305653"
     },
     "user_tz": -180
    },
    "id": "e-txsfybLhpA"
   },
   "outputs": [],
   "source": [
    "A.add(4)"
   ]
  },
  {
   "cell_type": "code",
   "execution_count": null,
   "metadata": {
    "colab": {
     "base_uri": "https://localhost:8080/"
    },
    "executionInfo": {
     "elapsed": 3,
     "status": "ok",
     "timestamp": 1698662618559,
     "user": {
      "displayName": "Kürşat I.",
      "userId": "14652250962021305653"
     },
     "user_tz": -180
    },
    "id": "DW1veNF4LooE",
    "outputId": "51e4c38f-65ed-4392-e2e9-b6eb898200b0"
   },
   "outputs": [],
   "source": [
    "A"
   ]
  },
  {
   "cell_type": "code",
   "execution_count": null,
   "metadata": {
    "executionInfo": {
     "elapsed": 2,
     "status": "ok",
     "timestamp": 1698662631212,
     "user": {
      "displayName": "Kürşat I.",
      "userId": "14652250962021305653"
     },
     "user_tz": -180
    },
    "id": "5yetssefLpCN"
   },
   "outputs": [],
   "source": [
    "B = {}"
   ]
  },
  {
   "cell_type": "code",
   "execution_count": null,
   "metadata": {
    "executionInfo": {
     "elapsed": 2,
     "status": "ok",
     "timestamp": 1698662644114,
     "user": {
      "displayName": "Kürşat I.",
      "userId": "14652250962021305653"
     },
     "user_tz": -180
    },
    "id": "GZImJF2wLsLV"
   },
   "outputs": [],
   "source": [
    "B = set ([2, 4, 5])"
   ]
  },
  {
   "cell_type": "code",
   "execution_count": null,
   "metadata": {
    "colab": {
     "base_uri": "https://localhost:8080/"
    },
    "executionInfo": {
     "elapsed": 2,
     "status": "ok",
     "timestamp": 1698662646147,
     "user": {
      "displayName": "Kürşat I.",
      "userId": "14652250962021305653"
     },
     "user_tz": -180
    },
    "id": "Bw4mZ7tKLvRp",
    "outputId": "3eb90ee7-9506-483e-9b06-51d50ab56372"
   },
   "outputs": [],
   "source": [
    "B"
   ]
  },
  {
   "cell_type": "code",
   "execution_count": null,
   "metadata": {
    "colab": {
     "base_uri": "https://localhost:8080/"
    },
    "executionInfo": {
     "elapsed": 3,
     "status": "ok",
     "timestamp": 1698662674054,
     "user": {
      "displayName": "Kürşat I.",
      "userId": "14652250962021305653"
     },
     "user_tz": -180
    },
    "id": "VmfV9S1kLv1q",
    "outputId": "4b8f7794-0826-4ce5-d539-29dd4ed9a64e"
   },
   "outputs": [],
   "source": [
    "A | B"
   ]
  },
  {
   "cell_type": "code",
   "execution_count": null,
   "metadata": {
    "colab": {
     "base_uri": "https://localhost:8080/"
    },
    "executionInfo": {
     "elapsed": 3,
     "status": "ok",
     "timestamp": 1698662714442,
     "user": {
      "displayName": "Kürşat I.",
      "userId": "14652250962021305653"
     },
     "user_tz": -180
    },
    "id": "G0KZrY2-L2rd",
    "outputId": "4245f0c3-2a0d-4894-b643-07bc9be87276"
   },
   "outputs": [],
   "source": [
    "A.union(B)"
   ]
  },
  {
   "cell_type": "code",
   "execution_count": null,
   "metadata": {
    "colab": {
     "base_uri": "https://localhost:8080/"
    },
    "executionInfo": {
     "elapsed": 3,
     "status": "ok",
     "timestamp": 1698662727479,
     "user": {
      "displayName": "Kürşat I.",
      "userId": "14652250962021305653"
     },
     "user_tz": -180
    },
    "id": "la5Ap4TKMAkO",
    "outputId": "ef27f7eb-42e9-46b6-b767-91d5ea4da8c7"
   },
   "outputs": [],
   "source": [
    "A.intersection(B)"
   ]
  },
  {
   "cell_type": "code",
   "execution_count": null,
   "metadata": {
    "executionInfo": {
     "elapsed": 2,
     "status": "ok",
     "timestamp": 1698662856347,
     "user": {
      "displayName": "Kürşat I.",
      "userId": "14652250962021305653"
     },
     "user_tz": -180
    },
    "id": "ECBx92ogMDxX"
   },
   "outputs": [],
   "source": [
    "dict = { 'name': 'Kursat', 'surname': 'Ince', 'Number': 2536482, 'School': 'GTU'}"
   ]
  },
  {
   "cell_type": "code",
   "execution_count": null,
   "metadata": {
    "colab": {
     "base_uri": "https://localhost:8080/",
     "height": 36
    },
    "executionInfo": {
     "elapsed": 4,
     "status": "ok",
     "timestamp": 1698662869355,
     "user": {
      "displayName": "Kürşat I.",
      "userId": "14652250962021305653"
     },
     "user_tz": -180
    },
    "id": "hjRfsH90Mg9o",
    "outputId": "ce8b2f65-daa7-46ed-d9df-d2da824ba22a"
   },
   "outputs": [],
   "source": [
    "dict['name']"
   ]
  },
  {
   "cell_type": "code",
   "execution_count": null,
   "metadata": {
    "colab": {
     "base_uri": "https://localhost:8080/",
     "height": 36
    },
    "executionInfo": {
     "elapsed": 3,
     "status": "ok",
     "timestamp": 1698662877198,
     "user": {
      "displayName": "Kürşat I.",
      "userId": "14652250962021305653"
     },
     "user_tz": -180
    },
    "id": "cUKOiVf5MmUk",
    "outputId": "df7e0478-41e8-4afb-e4e5-c78c4d200284"
   },
   "outputs": [],
   "source": [
    "dict['surname']"
   ]
  },
  {
   "cell_type": "code",
   "execution_count": null,
   "metadata": {
    "colab": {
     "base_uri": "https://localhost:8080/"
    },
    "executionInfo": {
     "elapsed": 3,
     "status": "ok",
     "timestamp": 1698662881172,
     "user": {
      "displayName": "Kürşat I.",
      "userId": "14652250962021305653"
     },
     "user_tz": -180
    },
    "id": "Ja210c4EMoI9",
    "outputId": "3dca6975-d13a-4f9c-bc6d-001089afa415"
   },
   "outputs": [],
   "source": [
    "dict"
   ]
  },
  {
   "cell_type": "code",
   "execution_count": null,
   "metadata": {
    "colab": {
     "base_uri": "https://localhost:8080/"
    },
    "executionInfo": {
     "elapsed": 3,
     "status": "ok",
     "timestamp": 1698662944035,
     "user": {
      "displayName": "Kürşat I.",
      "userId": "14652250962021305653"
     },
     "user_tz": -180
    },
    "id": "tQ4zjNs_MpRz",
    "outputId": "6f0fdcc7-9243-4767-bf6e-ae218614047e"
   },
   "outputs": [],
   "source": [
    "for key, value in dict.items():\n",
    "    print (key, value)"
   ]
  },
  {
   "cell_type": "code",
   "execution_count": null,
   "metadata": {
    "colab": {
     "base_uri": "https://localhost:8080/"
    },
    "executionInfo": {
     "elapsed": 2,
     "status": "ok",
     "timestamp": 1698662963351,
     "user": {
      "displayName": "Kürşat I.",
      "userId": "14652250962021305653"
     },
     "user_tz": -180
    },
    "id": "3PHnjp49M0zn",
    "outputId": "386e7d47-151d-45f5-a906-46d99b0db077"
   },
   "outputs": [],
   "source": [
    "dict.keys()"
   ]
  },
  {
   "cell_type": "code",
   "execution_count": null,
   "metadata": {
    "colab": {
     "base_uri": "https://localhost:8080/"
    },
    "executionInfo": {
     "elapsed": 2,
     "status": "ok",
     "timestamp": 1698662967680,
     "user": {
      "displayName": "Kürşat I.",
      "userId": "14652250962021305653"
     },
     "user_tz": -180
    },
    "id": "ShopaQ9nM7xc",
    "outputId": "02015ad6-89ad-454c-ea2f-31389789a0d0"
   },
   "outputs": [],
   "source": [
    "dict.values()"
   ]
  },
  {
   "cell_type": "code",
   "execution_count": null,
   "metadata": {
    "id": "8RjweIKMM-Wj"
   },
   "outputs": [],
   "source": [
    "\n"
   ]
  },
  {
   "cell_type": "code",
   "execution_count": null,
   "metadata": {
    "executionInfo": {
     "elapsed": 2,
     "status": "ok",
     "timestamp": 1698663081102,
     "user": {
      "displayName": "Kürşat I.",
      "userId": "14652250962021305653"
     },
     "user_tz": -180
    },
    "id": "WgtMyQdWNKYt"
   },
   "outputs": [],
   "source": [
    "a = (2, 3, 5)"
   ]
  },
  {
   "cell_type": "code",
   "execution_count": null,
   "metadata": {
    "colab": {
     "base_uri": "https://localhost:8080/"
    },
    "executionInfo": {
     "elapsed": 2,
     "status": "ok",
     "timestamp": 1698663083096,
     "user": {
      "displayName": "Kürşat I.",
      "userId": "14652250962021305653"
     },
     "user_tz": -180
    },
    "id": "VpyGoLRtNaFA",
    "outputId": "30e318ae-76ec-49d8-a226-6482a9cfc5ee"
   },
   "outputs": [],
   "source": [
    "a"
   ]
  },
  {
   "cell_type": "code",
   "execution_count": null,
   "metadata": {
    "colab": {
     "base_uri": "https://localhost:8080/"
    },
    "executionInfo": {
     "elapsed": 2,
     "status": "ok",
     "timestamp": 1698663086449,
     "user": {
      "displayName": "Kürşat I.",
      "userId": "14652250962021305653"
     },
     "user_tz": -180
    },
    "id": "eBzBLZeSNafR",
    "outputId": "7e3efcb0-f170-461b-febe-d5d3be0aeffc"
   },
   "outputs": [],
   "source": [
    "a[0]"
   ]
  },
  {
   "cell_type": "code",
   "execution_count": null,
   "metadata": {
    "executionInfo": {
     "elapsed": 2,
     "status": "ok",
     "timestamp": 1698663105836,
     "user": {
      "displayName": "Kürşat I.",
      "userId": "14652250962021305653"
     },
     "user_tz": -180
    },
    "id": "f6GiW26RNbHR"
   },
   "outputs": [],
   "source": [
    "def tuple_test():\n",
    "\n",
    "    return 2, 3"
   ]
  },
  {
   "cell_type": "code",
   "execution_count": null,
   "metadata": {
    "colab": {
     "base_uri": "https://localhost:8080/"
    },
    "executionInfo": {
     "elapsed": 1,
     "status": "ok",
     "timestamp": 1698663254147,
     "user": {
      "displayName": "Kürşat I.",
      "userId": "14652250962021305653"
     },
     "user_tz": -180
    },
    "id": "T_CXEAT3NgGC",
    "outputId": "6670dc09-dd88-492c-d0ef-633decefe18a"
   },
   "outputs": [],
   "source": [
    "tuple_test()[1]"
   ]
  },
  {
   "cell_type": "code",
   "execution_count": null,
   "metadata": {
    "id": "FtMwDZcUUypK"
   },
   "outputs": [],
   "source": []
  },
  {
   "cell_type": "code",
   "execution_count": null,
   "metadata": {
    "colab": {
     "base_uri": "https://localhost:8080/"
    },
    "executionInfo": {
     "elapsed": 2,
     "status": "ok",
     "timestamp": 1698663182931,
     "user": {
      "displayName": "Kürşat I.",
      "userId": "14652250962021305653"
     },
     "user_tz": -180
    },
    "id": "OHBGwKM-NhTS",
    "outputId": "860a07da-8346-428b-9036-dfc5800f315f"
   },
   "outputs": [],
   "source": [
    "\n"
   ]
  },
  {
   "cell_type": "code",
   "execution_count": null,
   "metadata": {
    "colab": {
     "base_uri": "https://localhost:8080/"
    },
    "executionInfo": {
     "elapsed": 2,
     "status": "ok",
     "timestamp": 1698663151969,
     "user": {
      "displayName": "Kürşat I.",
      "userId": "14652250962021305653"
     },
     "user_tz": -180
    },
    "id": "V_UGylPzNkxy",
    "outputId": "b52b2930-e7b3-49cc-8745-a288eb2fffdd"
   },
   "outputs": [],
   "source": [
    "_"
   ]
  },
  {
   "cell_type": "code",
   "execution_count": null,
   "metadata": {
    "id": "c75f2DxoNlZi"
   },
   "outputs": [],
   "source": []
  }
 ],
 "metadata": {
  "colab": {
   "authorship_tag": "ABX9TyPRmFGrNAxKZltKtNCloMdD",
   "provenance": []
  },
  "kernelspec": {
   "display_name": "Python 3 (ipykernel)",
   "language": "python",
   "name": "python3"
  },
  "language_info": {
   "codemirror_mode": {
    "name": "ipython",
    "version": 3
   },
   "file_extension": ".py",
   "mimetype": "text/x-python",
   "name": "python",
   "nbconvert_exporter": "python",
   "pygments_lexer": "ipython3",
   "version": "3.9.18"
  }
 },
 "nbformat": 4,
 "nbformat_minor": 4
}
