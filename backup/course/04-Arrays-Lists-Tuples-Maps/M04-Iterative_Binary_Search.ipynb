{
 "cells": [
  {
   "cell_type": "code",
   "execution_count": null,
   "metadata": {
    "executionInfo": {
     "elapsed": 1,
     "status": "ok",
     "timestamp": 1709725905384,
     "user": {
      "displayName": "Kürşat I.",
      "userId": "14652250962021305653"
     },
     "user_tz": -180
    },
    "id": "Zi0B99ePmdM5"
   },
   "outputs": [],
   "source": [
    "def binary_search_iterative(data, target):\n",
    "    \"\"\"Return True if target is found in the given Python list.\"\"\"\n",
    "    low = 0\n",
    "    high = len(data) - 1\n",
    "    while low <= high:\n",
    "        print (low, high)\n",
    "        mid = (low + high) // 2\n",
    "        if target == data[mid]: # found a match\n",
    "            return True\n",
    "        elif target < data[mid]:\n",
    "            high = mid - 1 # only consider values left of mid\n",
    "        else:\n",
    "            low = mid + 1 # only consider values right of mid\n",
    "\n",
    "    return False # loop ended without success\n"
   ]
  },
  {
   "cell_type": "code",
   "execution_count": null,
   "metadata": {
    "colab": {
     "base_uri": "https://localhost:8080/"
    },
    "executionInfo": {
     "elapsed": 449,
     "status": "ok",
     "timestamp": 1709725906907,
     "user": {
      "displayName": "Kürşat I.",
      "userId": "14652250962021305653"
     },
     "user_tz": -180
    },
    "id": "-gbr8aCTmdM6",
    "outputId": "871fb5da-8266-4fe1-f8ab-28384288711d"
   },
   "outputs": [],
   "source": [
    "A = [1, 3, 4, 5, 8, 9, 11, 34, 35, 36, 41, 50]\n",
    "binary_search_iterative(A, 41)"
   ]
  },
  {
   "cell_type": "code",
   "execution_count": null,
   "metadata": {
    "id": "TyvQj4R2mdM7"
   },
   "outputs": [],
   "source": []
  }
 ],
 "metadata": {
  "colab": {
   "provenance": []
  },
  "kernelspec": {
   "display_name": "Python 3 (ipykernel)",
   "language": "python",
   "name": "python3"
  },
  "language_info": {
   "codemirror_mode": {
    "name": "ipython",
    "version": 3
   },
   "file_extension": ".py",
   "mimetype": "text/x-python",
   "name": "python",
   "nbconvert_exporter": "python",
   "pygments_lexer": "ipython3",
   "version": "3.9.18"
  },
  "vscode": {
   "interpreter": {
    "hash": "3143b5b7d681900e1eea1ff1f08f1c0ace97f55d609e956491d0862a6c0bd3be"
   }
  }
 },
 "nbformat": 4,
 "nbformat_minor": 4
}
