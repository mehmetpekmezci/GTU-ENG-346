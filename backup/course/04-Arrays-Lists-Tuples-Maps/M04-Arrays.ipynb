{
 "cells": [
  {
   "cell_type": "code",
   "execution_count": null,
   "metadata": {
    "id": "9y7hWPTxzgsN"
   },
   "outputs": [],
   "source": [
    "from array import array"
   ]
  },
  {
   "cell_type": "code",
   "execution_count": null,
   "metadata": {
    "id": "K6Uq6iaHoqTi"
   },
   "outputs": [],
   "source": [
    "array?"
   ]
  },
  {
   "cell_type": "code",
   "execution_count": null,
   "metadata": {
    "colab": {
     "base_uri": "https://localhost:8080/"
    },
    "executionInfo": {
     "elapsed": 3,
     "status": "ok",
     "timestamp": 1728298857185,
     "user": {
      "displayName": "Kürşat I.",
      "userId": "14652250962021305653"
     },
     "user_tz": -180
    },
    "id": "57BhX6ANzgsO",
    "outputId": "3cb70f33-e54e-4ff4-8ea2-f978820a0eb9"
   },
   "outputs": [],
   "source": [
    "A = array('i', range(15))\n",
    "A"
   ]
  },
  {
   "cell_type": "code",
   "execution_count": null,
   "metadata": {
    "colab": {
     "base_uri": "https://localhost:8080/"
    },
    "executionInfo": {
     "elapsed": 325,
     "status": "ok",
     "timestamp": 1728298869605,
     "user": {
      "displayName": "Kürşat I.",
      "userId": "14652250962021305653"
     },
     "user_tz": -180
    },
    "id": "QxQqT6m7zgsO",
    "outputId": "79e61545-3c1a-4861-9a99-5719637fdb50"
   },
   "outputs": [],
   "source": [
    "A.insert(0, 9)\n",
    "A"
   ]
  },
  {
   "cell_type": "code",
   "execution_count": null,
   "metadata": {
    "colab": {
     "base_uri": "https://localhost:8080/"
    },
    "executionInfo": {
     "elapsed": 2,
     "status": "ok",
     "timestamp": 1728298881071,
     "user": {
      "displayName": "Kürşat I.",
      "userId": "14652250962021305653"
     },
     "user_tz": -180
    },
    "id": "qfAzhwO-zgsO",
    "outputId": "04fa3cbe-60cf-4087-c8ff-ab2f49fca383"
   },
   "outputs": [],
   "source": [
    "A.append(55)\n",
    "A"
   ]
  },
  {
   "cell_type": "code",
   "execution_count": null,
   "metadata": {
    "colab": {
     "base_uri": "https://localhost:8080/"
    },
    "executionInfo": {
     "elapsed": 362,
     "status": "ok",
     "timestamp": 1728298889122,
     "user": {
      "displayName": "Kürşat I.",
      "userId": "14652250962021305653"
     },
     "user_tz": -180
    },
    "id": "yKtsRopFzgsO",
    "outputId": "3491ddb1-0792-4e18-c03f-33166fa503ac"
   },
   "outputs": [],
   "source": [
    "A.remove(9)\n",
    "A"
   ]
  },
  {
   "cell_type": "code",
   "execution_count": null,
   "metadata": {
    "colab": {
     "base_uri": "https://localhost:8080/"
    },
    "executionInfo": {
     "elapsed": 318,
     "status": "ok",
     "timestamp": 1728298898061,
     "user": {
      "displayName": "Kürşat I.",
      "userId": "14652250962021305653"
     },
     "user_tz": -180
    },
    "id": "JVTxc8-hzgsO",
    "outputId": "1aaa4c9e-577d-4086-a2f7-b98a4382c950"
   },
   "outputs": [],
   "source": [
    "print (A.pop())\n",
    "A"
   ]
  },
  {
   "cell_type": "code",
   "execution_count": null,
   "metadata": {
    "colab": {
     "base_uri": "https://localhost:8080/"
    },
    "executionInfo": {
     "elapsed": 363,
     "status": "ok",
     "timestamp": 1728298910153,
     "user": {
      "displayName": "Kürşat I.",
      "userId": "14652250962021305653"
     },
     "user_tz": -180
    },
    "id": "VVy5H1dtzgsP",
    "outputId": "d5812583-3e98-4f3a-baa0-79d344b91005"
   },
   "outputs": [],
   "source": [
    "A[8]"
   ]
  },
  {
   "cell_type": "code",
   "execution_count": null,
   "metadata": {
    "colab": {
     "base_uri": "https://localhost:8080/"
    },
    "executionInfo": {
     "elapsed": 313,
     "status": "ok",
     "timestamp": 1728298920953,
     "user": {
      "displayName": "Kürşat I.",
      "userId": "14652250962021305653"
     },
     "user_tz": -180
    },
    "id": "yQGfve_gzgsP",
    "outputId": "6d217d97-05d6-40aa-8a67-ed1aacaaddcc"
   },
   "outputs": [],
   "source": [
    "A.tolist()"
   ]
  },
  {
   "cell_type": "code",
   "execution_count": null,
   "metadata": {
    "executionInfo": {
     "elapsed": 351,
     "status": "ok",
     "timestamp": 1728298932870,
     "user": {
      "displayName": "Kürşat I.",
      "userId": "14652250962021305653"
     },
     "user_tz": -180
    },
    "id": "T5mDS5cHzgsP"
   },
   "outputs": [],
   "source": [
    "A.reverse()"
   ]
  },
  {
   "cell_type": "code",
   "execution_count": null,
   "metadata": {
    "colab": {
     "base_uri": "https://localhost:8080/"
    },
    "executionInfo": {
     "elapsed": 337,
     "status": "ok",
     "timestamp": 1728298935697,
     "user": {
      "displayName": "Kürşat I.",
      "userId": "14652250962021305653"
     },
     "user_tz": -180
    },
    "id": "e5KnG6PRzgsP",
    "outputId": "67542e1c-cb13-4796-d892-d8f3dbca36fd"
   },
   "outputs": [],
   "source": [
    "A"
   ]
  },
  {
   "cell_type": "code",
   "execution_count": null,
   "metadata": {
    "colab": {
     "base_uri": "https://localhost:8080/"
    },
    "executionInfo": {
     "elapsed": 310,
     "status": "ok",
     "timestamp": 1728298940820,
     "user": {
      "displayName": "Kürşat I.",
      "userId": "14652250962021305653"
     },
     "user_tz": -180
    },
    "id": "SDGbOZOu0OsN",
    "outputId": "e9c0998f-c827-44ea-c80e-038c3582dc35"
   },
   "outputs": [],
   "source": [
    "A.append(3)\n",
    "A"
   ]
  },
  {
   "cell_type": "code",
   "execution_count": null,
   "metadata": {
    "colab": {
     "base_uri": "https://localhost:8080/"
    },
    "executionInfo": {
     "elapsed": 295,
     "status": "ok",
     "timestamp": 1728299044796,
     "user": {
      "displayName": "Kürşat I.",
      "userId": "14652250962021305653"
     },
     "user_tz": -180
    },
    "id": "XeJ4WtFPpRcK",
    "outputId": "92f3434a-d6fa-4fb3-853f-079d6a40bb1d"
   },
   "outputs": [],
   "source": [
    "ll = A.tolist()\n",
    "ll"
   ]
  },
  {
   "cell_type": "code",
   "execution_count": null,
   "metadata": {
    "colab": {
     "base_uri": "https://localhost:8080/"
    },
    "executionInfo": {
     "elapsed": 312,
     "status": "ok",
     "timestamp": 1728299064747,
     "user": {
      "displayName": "Kürşat I.",
      "userId": "14652250962021305653"
     },
     "user_tz": -180
    },
    "id": "qXrt4pkBpVIK",
    "outputId": "dce46390-7548-45ae-a9e1-c2ec0f1e00d3"
   },
   "outputs": [],
   "source": [
    "[x**0.5 for x in ll if x < 10]"
   ]
  },
  {
   "cell_type": "code",
   "execution_count": null,
   "metadata": {
    "executionInfo": {
     "elapsed": 311,
     "status": "ok",
     "timestamp": 1728300123876,
     "user": {
      "displayName": "Kürşat I.",
      "userId": "14652250962021305653"
     },
     "user_tz": -180
    },
    "id": "SHWoRmdmrAAg"
   },
   "outputs": [],
   "source": [
    "# palindrome\n",
    "\n",
    "def is_palindrome(s):\n",
    "\n",
    "    s = s.lower()\n",
    "    s = s.replace(\" \", \"\")\n",
    "\n",
    "    # for i in range(len(s)//2):\n",
    "    #     if s[i] != s[len(s)-i-1]:\n",
    "    #         return False\n",
    "\n",
    "    lower = 0\n",
    "    higher = len(s) - 1\n",
    "\n",
    "    while lower < higher:\n",
    "        if s[lower] != s[higher]:\n",
    "            return False\n",
    "        lower += 1\n",
    "        higher -= 1\n",
    "    return True\n",
    "\n",
    "\t# return s == s[::-1]"
   ]
  },
  {
   "cell_type": "code",
   "execution_count": null,
   "metadata": {
    "colab": {
     "base_uri": "https://localhost:8080/"
    },
    "executionInfo": {
     "elapsed": 317,
     "status": "ok",
     "timestamp": 1728300125443,
     "user": {
      "displayName": "Kürşat I.",
      "userId": "14652250962021305653"
     },
     "user_tz": -180
    },
    "id": "KmOJ-rxTrZHY",
    "outputId": "a98c19f5-3297-4c6e-efc5-8063a40e17a8"
   },
   "outputs": [],
   "source": [
    "is_palindrome(\"adana\")"
   ]
  },
  {
   "cell_type": "code",
   "execution_count": null,
   "metadata": {
    "colab": {
     "base_uri": "https://localhost:8080/"
    },
    "executionInfo": {
     "elapsed": 314,
     "status": "ok",
     "timestamp": 1728300129007,
     "user": {
      "displayName": "Kürşat I.",
      "userId": "14652250962021305653"
     },
     "user_tz": -180
    },
    "id": "uBZGwz_IreI5",
    "outputId": "57407ddc-8b2c-4369-c45a-73d29e343165"
   },
   "outputs": [],
   "source": [
    "is_palindrome(\"Ey Edip Adanada pide ye\")"
   ]
  },
  {
   "cell_type": "code",
   "execution_count": null,
   "metadata": {
    "id": "Q4e9Di-msu1B"
   },
   "outputs": [],
   "source": []
  }
 ],
 "metadata": {
  "colab": {
   "provenance": []
  },
  "kernelspec": {
   "display_name": "Python 3 (ipykernel)",
   "language": "python",
   "name": "python3"
  },
  "language_info": {
   "codemirror_mode": {
    "name": "ipython",
    "version": 3
   },
   "file_extension": ".py",
   "mimetype": "text/x-python",
   "name": "python",
   "nbconvert_exporter": "python",
   "pygments_lexer": "ipython3",
   "version": "3.9.18"
  },
  "vscode": {
   "interpreter": {
    "hash": "3143b5b7d681900e1eea1ff1f08f1c0ace97f55d609e956491d0862a6c0bd3be"
   }
  }
 },
 "nbformat": 4,
 "nbformat_minor": 4
}
