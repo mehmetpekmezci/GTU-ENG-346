{
 "cells": [
  {
   "cell_type": "code",
   "execution_count": 1,
   "metadata": {},
   "outputs": [],
   "source": [
    "# Recursive Python function to solve the tower of hanoi\n",
    "# A, C, B are the name of rods\n",
    "\n",
    "def TowerOfHanoi(n , source, destination, auxiliary):\n",
    "\tif n==1:\n",
    "\t\tprint (\"Move disk 1 from source\",source,\"to destination\",destination)\n",
    "\t\treturn\n",
    "\tTowerOfHanoi(n-1, source, auxiliary, destination)\n",
    "\tprint (\"Move disk\",n,\"from source\",source,\"to destination\",destination)\n",
    "\tTowerOfHanoi(n-1, auxiliary, destination, source)\n",
    "\t\t\n"
   ]
  },
  {
   "cell_type": "code",
   "execution_count": 2,
   "metadata": {},
   "outputs": [
    {
     "name": "stdout",
     "output_type": "stream",
     "text": [
      "Move disk 1 from source A to destination C\n",
      "Move disk 2 from source A to destination B\n",
      "Move disk 1 from source C to destination B\n",
      "Move disk 3 from source A to destination C\n",
      "Move disk 1 from source B to destination A\n",
      "Move disk 2 from source B to destination C\n",
      "Move disk 1 from source A to destination C\n",
      "Move disk 4 from source A to destination B\n",
      "Move disk 1 from source C to destination B\n",
      "Move disk 2 from source C to destination A\n",
      "Move disk 1 from source B to destination A\n",
      "Move disk 3 from source C to destination B\n",
      "Move disk 1 from source A to destination C\n",
      "Move disk 2 from source A to destination B\n",
      "Move disk 1 from source C to destination B\n"
     ]
    }
   ],
   "source": [
    "# Driver code\n",
    "n = 4\n",
    "TowerOfHanoi(n,'A','B','C') "
   ]
  },
  {
   "cell_type": "code",
   "execution_count": null,
   "metadata": {},
   "outputs": [],
   "source": []
  }
 ],
 "metadata": {
  "kernelspec": {
   "display_name": "Python 3.6.12 ('KerasTF')",
   "language": "python",
   "name": "python3"
  },
  "language_info": {
   "codemirror_mode": {
    "name": "ipython",
    "version": 3
   },
   "file_extension": ".py",
   "mimetype": "text/x-python",
   "name": "python",
   "nbconvert_exporter": "python",
   "pygments_lexer": "ipython3",
   "version": "3.6.12"
  },
  "orig_nbformat": 4,
  "vscode": {
   "interpreter": {
    "hash": "3143b5b7d681900e1eea1ff1f08f1c0ace97f55d609e956491d0862a6c0bd3be"
   }
  }
 },
 "nbformat": 4,
 "nbformat_minor": 2
}
