{
 "cells": [
  {
   "cell_type": "code",
   "execution_count": 1,
   "metadata": {},
   "outputs": [],
   "source": [
    "def binary_search_iterative(data, target):\n",
    "    \"\"\"Return True if target is found in the given Python list.\"\"\"\n",
    "    low = 0\n",
    "    high = len(data) - 1\n",
    "    while low <= high:\n",
    "        mid = (low + high) // 2\n",
    "        if target == data[mid]: # found a match\n",
    "            return True\n",
    "        elif target < data[mid]:\n",
    "            high = mid - 1 # only consider values left of mid\n",
    "        else:\n",
    "            low = mid + 1 # only consider values right of mid\n",
    "    \n",
    "    return False # loop ended without success"
   ]
  },
  {
   "cell_type": "code",
   "execution_count": 3,
   "metadata": {},
   "outputs": [
    {
     "data": {
      "text/plain": [
       "False"
      ]
     },
     "execution_count": 3,
     "metadata": {},
     "output_type": "execute_result"
    }
   ],
   "source": [
    "binary_search_iterative([1, 3, 4, 5, 8, 9, 11, 34, 35, 36, 41, 50], 15)"
   ]
  },
  {
   "cell_type": "code",
   "execution_count": null,
   "metadata": {},
   "outputs": [],
   "source": []
  }
 ],
 "metadata": {
  "kernelspec": {
   "display_name": "Python 3.6.12 ('KerasTF')",
   "language": "python",
   "name": "python3"
  },
  "language_info": {
   "codemirror_mode": {
    "name": "ipython",
    "version": 3
   },
   "file_extension": ".py",
   "mimetype": "text/x-python",
   "name": "python",
   "nbconvert_exporter": "python",
   "pygments_lexer": "ipython3",
   "version": "3.6.12"
  },
  "orig_nbformat": 4,
  "vscode": {
   "interpreter": {
    "hash": "3143b5b7d681900e1eea1ff1f08f1c0ace97f55d609e956491d0862a6c0bd3be"
   }
  }
 },
 "nbformat": 4,
 "nbformat_minor": 2
}
