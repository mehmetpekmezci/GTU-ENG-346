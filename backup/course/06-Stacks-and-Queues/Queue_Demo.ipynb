{
 "cells": [
  {
   "cell_type": "code",
   "execution_count": 52,
   "metadata": {},
   "outputs": [],
   "source": [
    "class Queue:\n",
    " \n",
    "    def __init__(self, size=10):\n",
    "        self._queue = []\n",
    "        self.front = self.rear = 0\n",
    "        self.size = size\n",
    "\n",
    "    def is_empty(self):\n",
    "        return len(self._queue) <= 0\n",
    "\n",
    "    def enqueue(self, data):\n",
    "        # Check queue is full or not\n",
    "        if(self.size == self.rear):\n",
    "            raise Exception('Queue overflow')\n",
    " \n",
    "        # Insert element at the rear\n",
    "        else:\n",
    "            self._queue.append(data)\n",
    "            self.rear += 1\n",
    " \n",
    "    # Function to delete an element\n",
    "    # from the front of the queue\n",
    "    def dequeue(self):\n",
    "        # If queue is empty\n",
    "        if(self.front == self.rear):\n",
    "            raise Exception('Queue underflow')\n",
    "        # Pop the front element from list\n",
    "        else:\n",
    "            x = self._queue.pop(0)\n",
    "            self.rear -= 1\n",
    "\n",
    "        return x\n",
    "\n",
    "    def length(self):\n",
    "        return len(self._queue)\n",
    "\n",
    "    def __len__(self):\n",
    "        return self.length()\n",
    "\n",
    "    # Function to print queue elements\n",
    "    def display(self):\n",
    " \n",
    "        if(self.front == self.rear):\n",
    "            print(\"Queue is Empty\")\n",
    " \n",
    "        # Traverse front to rear to\n",
    "        # print elements\n",
    "        for i in self._queue:\n",
    "            print(i, \"<-- \", end='')\n",
    "        print(\"Rear\")\n",
    "\n",
    "    # Print front of queue\n",
    "    def first(self):\n",
    " \n",
    "        if(self.front == self.rear):\n",
    "            print(\"Queue is Empty\")\n",
    " \n",
    "        return self._queue[self.front]\n"
   ]
  },
  {
   "cell_type": "code",
   "execution_count": 53,
   "metadata": {},
   "outputs": [],
   "source": [
    "Q =  Queue()"
   ]
  },
  {
   "cell_type": "code",
   "execution_count": 54,
   "metadata": {},
   "outputs": [],
   "source": [
    "Q.enqueue(5)\n",
    "Q.enqueue(6)"
   ]
  },
  {
   "cell_type": "code",
   "execution_count": 62,
   "metadata": {},
   "outputs": [
    {
     "name": "stdout",
     "output_type": "stream",
     "text": [
      "5 <-- 6 <-- Rear\n"
     ]
    }
   ],
   "source": [
    "Q.display()"
   ]
  },
  {
   "cell_type": "code",
   "execution_count": 66,
   "metadata": {},
   "outputs": [],
   "source": [
    "P = Queue()\n",
    "P.enqueue(\"banana\")\n",
    "P.enqueue(\"apple\")\n",
    "P.enqueue(\"kivi\")\n",
    "P.enqueue(\"mango\")\n",
    "P.enqueue(\"banana\")\n",
    "P.enqueue(\"apple\")\n",
    "P.enqueue(\"kivi\")\n",
    "P.enqueue(\"mango\")\n",
    "P.enqueue(\"banana\")\n",
    "P.enqueue(\"apple\")\n"
   ]
  },
  {
   "cell_type": "code",
   "execution_count": 69,
   "metadata": {},
   "outputs": [
    {
     "data": {
      "text/plain": [
       "10"
      ]
     },
     "execution_count": 69,
     "metadata": {},
     "output_type": "execute_result"
    }
   ],
   "source": [
    "len(P)"
   ]
  },
  {
   "cell_type": "code",
   "execution_count": 70,
   "metadata": {},
   "outputs": [
    {
     "data": {
      "text/plain": [
       "'banana'"
      ]
     },
     "execution_count": 70,
     "metadata": {},
     "output_type": "execute_result"
    }
   ],
   "source": [
    "P.dequeue()"
   ]
  },
  {
   "cell_type": "code",
   "execution_count": 71,
   "metadata": {},
   "outputs": [
    {
     "data": {
      "text/plain": [
       "['kivi', 'mango', 'banana', 'apple', 'kivi', 'mango', 'banana', 'apple']"
      ]
     },
     "execution_count": 71,
     "metadata": {},
     "output_type": "execute_result"
    }
   ],
   "source": [
    "P._queue.pop(0)\n",
    "P._queue"
   ]
  },
  {
   "cell_type": "code",
   "execution_count": 72,
   "metadata": {},
   "outputs": [
    {
     "data": {
      "text/plain": [
       "(0, 9)"
      ]
     },
     "execution_count": 72,
     "metadata": {},
     "output_type": "execute_result"
    }
   ],
   "source": [
    "P.front, P.rear"
   ]
  },
  {
   "cell_type": "code",
   "execution_count": 73,
   "metadata": {},
   "outputs": [
    {
     "data": {
      "text/plain": [
       "'kivi'"
      ]
     },
     "execution_count": 73,
     "metadata": {},
     "output_type": "execute_result"
    }
   ],
   "source": [
    "P.first()"
   ]
  },
  {
   "cell_type": "code",
   "execution_count": 74,
   "metadata": {},
   "outputs": [
    {
     "data": {
      "text/plain": [
       "'kivi'"
      ]
     },
     "execution_count": 74,
     "metadata": {},
     "output_type": "execute_result"
    }
   ],
   "source": [
    "P.dequeue()"
   ]
  },
  {
   "cell_type": "code",
   "execution_count": 75,
   "metadata": {},
   "outputs": [
    {
     "data": {
      "text/plain": [
       "7"
      ]
     },
     "execution_count": 75,
     "metadata": {},
     "output_type": "execute_result"
    }
   ],
   "source": [
    "len(P)"
   ]
  },
  {
   "cell_type": "code",
   "execution_count": 76,
   "metadata": {},
   "outputs": [
    {
     "data": {
      "text/plain": [
       "'kivi'"
      ]
     },
     "execution_count": 76,
     "metadata": {},
     "output_type": "execute_result"
    }
   ],
   "source": [
    "P.dequeue()\n",
    "P.dequeue()\n",
    "P.dequeue()\n",
    "P.dequeue()\n"
   ]
  },
  {
   "cell_type": "code",
   "execution_count": null,
   "metadata": {},
   "outputs": [],
   "source": []
  }
 ],
 "metadata": {
  "interpreter": {
   "hash": "a4ab120b70375efdd436909ef320fdc1f68c15077472e7dae7815c9a2cde337a"
  },
  "kernelspec": {
   "display_name": "Python 3.7.10 ('KerasTF')",
   "language": "python",
   "name": "python3"
  },
  "language_info": {
   "codemirror_mode": {
    "name": "ipython",
    "version": 3
   },
   "file_extension": ".py",
   "mimetype": "text/x-python",
   "name": "python",
   "nbconvert_exporter": "python",
   "pygments_lexer": "ipython3",
   "version": "3.7.10"
  },
  "orig_nbformat": 4
 },
 "nbformat": 4,
 "nbformat_minor": 2
}
