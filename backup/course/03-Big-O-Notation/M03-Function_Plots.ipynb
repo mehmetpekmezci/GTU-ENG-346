{
 "cells": [
  {
   "cell_type": "markdown",
   "metadata": {
    "id": "aJ7-8XZdAxbb"
   },
   "source": [
    "R-3.1 Graph the functions 8n, 4nlog n, 2n^2, n^3, and 2^n using a logarithmic scale\n",
    "for the x- and y-axes; that is, if the function value f (n) is y, plot this as a\n",
    "point with x-coordinate at log n and y-coordinate at log y."
   ]
  },
  {
   "cell_type": "code",
   "execution_count": null,
   "metadata": {
    "executionInfo": {
     "elapsed": 3,
     "status": "ok",
     "timestamp": 1697459422514,
     "user": {
      "displayName": "Kürşat I.",
      "userId": "14652250962021305653"
     },
     "user_tz": -180
    },
    "id": "9oerNvTiAtXt"
   },
   "outputs": [],
   "source": [
    "import matplotlib.pyplot as plt\n",
    "import math"
   ]
  },
  {
   "cell_type": "code",
   "execution_count": null,
   "metadata": {
    "colab": {
     "base_uri": "https://localhost:8080/"
    },
    "executionInfo": {
     "elapsed": 3,
     "status": "ok",
     "timestamp": 1697459425336,
     "user": {
      "displayName": "Kürşat I.",
      "userId": "14652250962021305653"
     },
     "user_tz": -180
    },
    "id": "O0SuQMeyA6a1",
    "outputId": "b93c630d-f87c-423f-b2aa-711dd590a3ab"
   },
   "outputs": [],
   "source": [
    "someNumbers = list(range(1,21))\n",
    "print (someNumbers)"
   ]
  },
  {
   "cell_type": "code",
   "execution_count": null,
   "metadata": {
    "colab": {
     "base_uri": "https://localhost:8080/"
    },
    "executionInfo": {
     "elapsed": 277,
     "status": "ok",
     "timestamp": 1697459437241,
     "user": {
      "displayName": "Kürşat I.",
      "userId": "14652250962021305653"
     },
     "user_tz": -180
    },
    "id": "wMMjqluSBCeZ",
    "outputId": "8e1aa02c-b9ea-49e1-c7de-e08a7b21ec41"
   },
   "outputs": [],
   "source": [
    "n_list = [m**2 for m in someNumbers]\n",
    "print (n_list)"
   ]
  },
  {
   "cell_type": "code",
   "execution_count": null,
   "metadata": {
    "executionInfo": {
     "elapsed": 227,
     "status": "ok",
     "timestamp": 1697459491240,
     "user": {
      "displayName": "Kürşat I.",
      "userId": "14652250962021305653"
     },
     "user_tz": -180
    },
    "id": "bex0PVTBBJ8g"
   },
   "outputs": [],
   "source": [
    "_8n = [8*n for n in n_list]\n",
    "_4nlogn = [4*n*math.log(n,10) for n in n_list]\n",
    "_2n2 = [2*n**2 for n in n_list]\n",
    "_n3 = [n**3 for n in n_list]\n",
    "_2n = [2**n for n in n_list]"
   ]
  },
  {
   "cell_type": "code",
   "execution_count": null,
   "metadata": {
    "colab": {
     "base_uri": "https://localhost:8080/",
     "height": 451
    },
    "executionInfo": {
     "elapsed": 1095,
     "status": "ok",
     "timestamp": 1697459494601,
     "user": {
      "displayName": "Kürşat I.",
      "userId": "14652250962021305653"
     },
     "user_tz": -180
    },
    "id": "7z0rqatGBUwI",
    "outputId": "824d1488-72b2-43ea-a9a1-a44c8c6f4978"
   },
   "outputs": [],
   "source": [
    "# plt.figure(figsize=(10,10))\n",
    "\n",
    "plt.xscale(\"log\")\n",
    "plt.yscale(\"log\")\n",
    "\n",
    "plt.plot(n_list, _8n, marker='.', label=\"8n\")\n",
    "plt.plot(n_list, _4nlogn, marker='.', label=\"4nlog(n)\")\n",
    "plt.plot(n_list, _2n2, marker='.', label=\"2n^2\")\n",
    "plt.plot(n_list, _n3, marker='.', label=\"n^3\")\n",
    "# plt.plot(n_list, _2n, marker='.', label=\"2^n\")\n",
    "\n",
    "plt.legend()"
   ]
  },
  {
   "cell_type": "code",
   "execution_count": null,
   "metadata": {
    "id": "Z9gAk2QkBp_c"
   },
   "outputs": [],
   "source": []
  },
  {
   "cell_type": "code",
   "execution_count": null,
   "metadata": {
    "colab": {
     "base_uri": "https://localhost:8080/",
     "height": 451
    },
    "executionInfo": {
     "elapsed": 1194,
     "status": "ok",
     "timestamp": 1697402511628,
     "user": {
      "displayName": "Kürşat I.",
      "userId": "14652250962021305653"
     },
     "user_tz": -180
    },
    "id": "SAiQFD9eDbEw",
    "outputId": "0b44a00f-ea70-458a-b462-ce0d26d72bd9"
   },
   "outputs": [],
   "source": [
    "# plt.figure(figsize=(10,10))\n",
    "\n",
    "plt.xscale(\"log\")\n",
    "plt.yscale(\"log\")\n",
    "\n",
    "plt.scatter(n_list, _8n, marker='.', label=\"8n\")\n",
    "plt.scatter(n_list, _4nlogn, marker='.', label=\"4nlog(n)\")\n",
    "plt.scatter(n_list, _2n2, marker='.', label=\"2n^2\")\n",
    "plt.scatter(n_list, _n3, marker='.', label=\"n^3\")\n",
    "plt.scatter(n_list, _2n, marker='.', label=\"2^n\")\n",
    "\n",
    "plt.legend()\n"
   ]
  },
  {
   "cell_type": "code",
   "execution_count": null,
   "metadata": {
    "id": "9vAfNoX6El_R"
   },
   "outputs": [],
   "source": []
  }
 ],
 "metadata": {
  "colab": {
   "authorship_tag": "ABX9TyMA2UCONeMj5xBxhcLmADy+",
   "provenance": []
  },
  "kernelspec": {
   "display_name": "Python 3 (ipykernel)",
   "language": "python",
   "name": "python3"
  },
  "language_info": {
   "codemirror_mode": {
    "name": "ipython",
    "version": 3
   },
   "file_extension": ".py",
   "mimetype": "text/x-python",
   "name": "python",
   "nbconvert_exporter": "python",
   "pygments_lexer": "ipython3",
   "version": "3.9.18"
  }
 },
 "nbformat": 4,
 "nbformat_minor": 4
}
